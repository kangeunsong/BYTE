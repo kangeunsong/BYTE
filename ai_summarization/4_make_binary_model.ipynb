{
 "cells": [
  {
   "cell_type": "markdown",
   "id": "ab277ce3",
   "metadata": {},
   "source": [
    "# make binary model\n",
    "### 학습을 완료한 후 최종 모델인 binary model 생성하기"
   ]
  },
  {
   "cell_type": "markdown",
   "id": "4c2ad9ce",
   "metadata": {},
   "source": [
    "1. `src/KoBART/get_model_binary.py` 실행\n",
    "\n",
    "\n",
    "2. 입력값\n",
    "    - **hparams**   \n",
    "    학습한 모델의 `하이퍼파라미터 파일 경로` 입력\n",
    "    - **model_binary**   \n",
    "    학습한 모델의 체크포인트 중 val_loss 가 가장 **낮은** `체크포인트 파일 경로` 입력\n",
    "    - **output_dir**  \n",
    "    최종 `binary model 을 저장할 경로` 입력"
   ]
  },
  {
   "cell_type": "code",
   "execution_count": 3,
   "id": "8cb20660",
   "metadata": {
    "scrolled": false
   },
   "outputs": [
    {
     "name": "stdout",
     "output_type": "stream",
     "text": [
      "Traceback (most recent call last):\n",
      "  File \"/Users/simmin-a/Desktop/project/newj/.venv/lib/python3.9/site-packages/numpy/core/__init__.py\", line 24, in <module>\n",
      "    from . import multiarray\n",
      "  File \"/Users/simmin-a/Desktop/project/newj/.venv/lib/python3.9/site-packages/numpy/core/multiarray.py\", line 10, in <module>\n",
      "    from . import overrides\n",
      "  File \"/Users/simmin-a/Desktop/project/newj/.venv/lib/python3.9/site-packages/numpy/core/overrides.py\", line 8, in <module>\n",
      "    from numpy.core._multiarray_umath import (\n",
      "ImportError: dlopen(/Users/simmin-a/Desktop/project/newj/.venv/lib/python3.9/site-packages/numpy/core/_multiarray_umath.cpython-39-darwin.so, 0x0002): tried: '/Users/simmin-a/Desktop/project/newj/.venv/lib/python3.9/site-packages/numpy/core/_multiarray_umath.cpython-39-darwin.so' (mach-o file, but is an incompatible architecture (have 'arm64', need 'x86_64')), '/System/Volumes/Preboot/Cryptexes/OS/Users/simmin-a/Desktop/project/newj/.venv/lib/python3.9/site-packages/numpy/core/_multiarray_umath.cpython-39-darwin.so' (no such file), '/Users/simmin-a/Desktop/project/newj/.venv/lib/python3.9/site-packages/numpy/core/_multiarray_umath.cpython-39-darwin.so' (mach-o file, but is an incompatible architecture (have 'arm64', need 'x86_64'))\n",
      "\n",
      "During handling of the above exception, another exception occurred:\n",
      "\n",
      "Traceback (most recent call last):\n",
      "  File \"/Users/simmin-a/Desktop/project/newj/.venv/lib/python3.9/site-packages/numpy/__init__.py\", line 130, in <module>\n",
      "    from numpy.__config__ import show as show_config\n",
      "  File \"/Users/simmin-a/Desktop/project/newj/.venv/lib/python3.9/site-packages/numpy/__config__.py\", line 4, in <module>\n",
      "    from numpy.core._multiarray_umath import (\n",
      "  File \"/Users/simmin-a/Desktop/project/newj/.venv/lib/python3.9/site-packages/numpy/core/__init__.py\", line 50, in <module>\n",
      "    raise ImportError(msg)\n",
      "ImportError: \n",
      "\n",
      "IMPORTANT: PLEASE READ THIS FOR ADVICE ON HOW TO SOLVE THIS ISSUE!\n",
      "\n",
      "Importing the numpy C-extensions failed. This error can happen for\n",
      "many reasons, often due to issues with your setup or how NumPy was\n",
      "installed.\n",
      "\n",
      "We have compiled some common reasons and troubleshooting tips at:\n",
      "\n",
      "    https://numpy.org/devdocs/user/troubleshooting-importerror.html\n",
      "\n",
      "Please note and check the following:\n",
      "\n",
      "  * The Python version is: Python3.9 from \"/Users/simmin-a/Desktop/project/newj/.venv/bin/python\"\n",
      "  * The NumPy version is: \"1.26.4\"\n",
      "\n",
      "and make sure that they are the versions you expect.\n",
      "Please carefully study the documentation linked above for further help.\n",
      "\n",
      "Original error was: dlopen(/Users/simmin-a/Desktop/project/newj/.venv/lib/python3.9/site-packages/numpy/core/_multiarray_umath.cpython-39-darwin.so, 0x0002): tried: '/Users/simmin-a/Desktop/project/newj/.venv/lib/python3.9/site-packages/numpy/core/_multiarray_umath.cpython-39-darwin.so' (mach-o file, but is an incompatible architecture (have 'arm64', need 'x86_64')), '/System/Volumes/Preboot/Cryptexes/OS/Users/simmin-a/Desktop/project/newj/.venv/lib/python3.9/site-packages/numpy/core/_multiarray_umath.cpython-39-darwin.so' (no such file), '/Users/simmin-a/Desktop/project/newj/.venv/lib/python3.9/site-packages/numpy/core/_multiarray_umath.cpython-39-darwin.so' (mach-o file, but is an incompatible architecture (have 'arm64', need 'x86_64'))\n",
      "\n",
      "\n",
      "The above exception was the direct cause of the following exception:\n",
      "\n",
      "Traceback (most recent call last):\n",
      "  File \"/Users/simmin-a/Desktop/project/newj/src/KoBART/get_model_binary.py\", line 2, in <module>\n",
      "    from train import KoBARTConditionalGeneration\n",
      "  File \"/Users/simmin-a/Desktop/project/newj/src/KoBART/train.py\", line 2, in <module>\n",
      "    import numpy as np\n",
      "  File \"/Users/simmin-a/Desktop/project/newj/.venv/lib/python3.9/site-packages/numpy/__init__.py\", line 135, in <module>\n",
      "    raise ImportError(msg) from e\n",
      "ImportError: Error importing numpy: you should not try to import numpy from\n",
      "        its source directory; please exit the numpy source tree, and relaunch\n",
      "        your python interpreter from there.\n"
     ]
    }
   ],
   "source": [
    "!python src/KoBART/get_model_binary.py \\\n",
    "--model_binary='checkpoint/last.ckpt' \\\n",
    "--output_dir='rsc/Binary_model/aihub'"
   ]
  },
  {
   "cell_type": "markdown",
   "id": "ed9df573",
   "metadata": {},
   "source": [
    "---\n",
    "# streamlit\n",
    "### 최종 모델인 binary model 을 가지고 데모 사이트 실행하기"
   ]
  },
  {
   "cell_type": "markdown",
   "id": "c8f135b5",
   "metadata": {},
   "source": [
    "1. `streamlit run src/KoBART/infer.py` 실행   \n",
    "\n",
    "\n",
    "2. 입력값\n",
    "    - **binary model 경로 입력**    \n",
    "        src/KoBART/infer.py 의 load_model 함수 안에 경로 입력  \n",
    "        model = BartForConditionalGeneration.from_pretrained(' `실행할 binary model 경로 입력` ')\n",
    "    - **server.port**   \n",
    "    해당 도커에서 연결해주신 port 사용 (현재 도커에서는 `8080` port 연결되어 있음)\n",
    "        \n",
    "        \n",
    "3. 사이트 접근  \n",
    "    `http://210.121.223.5:22004` 로 접근"
   ]
  },
  {
   "cell_type": "code",
   "execution_count": 2,
   "id": "7bb7ec06",
   "metadata": {},
   "outputs": [
    {
     "name": "stdout",
     "output_type": "stream",
     "text": [
      "\n",
      "      👋 \u001b[1mWelcome to Streamlit!\u001b[0m\n",
      "\n",
      "      If you’d like to receive helpful onboarding emails, news, offers, promotions,\n",
      "      and the occasional swag, please enter your email address below. Otherwise,\n",
      "      leave this field blank.\n",
      "\n",
      "      \u001b[34mEmail: \u001b[0m ^C\n",
      "2024-08-19 11:17:54.256 \n"
     ]
    }
   ],
   "source": [
    "!streamlit run src/KoBART/infer.py --server.port 8080 "
   ]
  },
  {
   "cell_type": "markdown",
   "id": "752f2f9f",
   "metadata": {},
   "source": [
    "---\n",
    "# tensorboard\n",
    "### 학습을 완료한 후 log 값 출력하기\n",
    "###### 설정한 log 값 : epoch, learning rate, train loss, test loss"
   ]
  },
  {
   "cell_type": "markdown",
   "id": "25227d3b",
   "metadata": {},
   "source": [
    "1. tensorboard upgrade 하기   \n",
    "    터미널에 입력 : `pip install tensorboard --upgrade`\n",
    "    \n",
    "    \n",
    "2. tensorboard dev upload 실행하기\n",
    "    `tensorboard dev upload`실행\n",
    "    \n",
    "\n",
    "3. 입력값\n",
    "    - logdir\n",
    "    학습한 모델의 `버전 경로` 입력"
   ]
  },
  {
   "cell_type": "code",
   "execution_count": 2,
   "id": "1bde3a9b",
   "metadata": {
    "scrolled": false
   },
   "outputs": [
    {
     "name": "stdout",
     "output_type": "stream",
     "text": [
      "2021-08-27 08:23:26.044528: I tensorflow/stream_executor/platform/default/dso_loader.cc:49] Successfully opened dynamic library libcudart.so.11.0\n",
      "Upload started and will continue reading any new data as it's added to the logdir.\n",
      "\n",
      "To stop uploading, press Ctrl-C.\n",
      "\n",
      "New experiment created. View your TensorBoard at: https://tensorboard.dev/experiment/VoHBmMP6TXqTMBpt7PyZ4A/\n",
      "\n",
      "\u001b[1m[2021-08-27T08:23:28]\u001b[0m Started scanning logdir.\n",
      "^C2K\u001b[33mListening for new data in logdir...\u001b[0m\n",
      "\n",
      "\n",
      "Interrupted.\n"
     ]
    }
   ],
   "source": [
    "!tensorboard dev upload --logdir rsc/By_domain_ckpt/dacon신문기사/tb_logs/default/version_1"
   ]
  },
  {
   "cell_type": "markdown",
   "id": "069295d8",
   "metadata": {},
   "source": [
    "ex) aihub-사설잡지 : https://tensorboard.dev/experiment/jH1cOj32TQWKSDYgW6EcPA/#scalars"
   ]
  },
  {
   "cell_type": "markdown",
   "id": "b2b18ace",
   "metadata": {},
   "source": [
    "ex2) aihub한국어대화요약 :  https://tensorboard.dev/experiment/77rCa0pRRXyfLOl5t6ZgLw/#scalars&runSelectionState=eyIuIjp0cnVlfQ%3D%3D&regexInput="
   ]
  }
 ],
 "metadata": {
  "kernelspec": {
   "display_name": "Python 3",
   "language": "python",
   "name": "python3"
  },
  "language_info": {
   "codemirror_mode": {
    "name": "ipython",
    "version": 3
   },
   "file_extension": ".py",
   "mimetype": "text/x-python",
   "name": "python",
   "nbconvert_exporter": "python",
   "pygments_lexer": "ipython3",
   "version": "3.9.13"
  }
 },
 "nbformat": 4,
 "nbformat_minor": 5
}
