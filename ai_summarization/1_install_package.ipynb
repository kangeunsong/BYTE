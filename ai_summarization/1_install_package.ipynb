{
 "cells": [
  {
   "cell_type": "markdown",
   "id": "21408f08",
   "metadata": {},
   "source": [
    "## 1. kobart git 오픈소스 다운"
   ]
  },
  {
   "cell_type": "markdown",
   "id": "b8fa5e62",
   "metadata": {},
   "source": [
    "1. src 폴더 새로 생성하고, 해당 경로로 이동 (**경로 설정 방법부터 똑같이 설명하겠습니다!**)      \n",
    "\n",
    "   (아래 코드 실행)"
   ]
  },
  {
   "cell_type": "code",
   "execution_count": 1,
   "id": "6ebb2d40",
   "metadata": {},
   "outputs": [],
   "source": [
    "mkdir src"
   ]
  },
  {
   "cell_type": "code",
   "execution_count": 4,
   "id": "a3f482e0",
   "metadata": {},
   "outputs": [
    {
     "name": "stdout",
     "output_type": "stream",
     "text": [
      "/Users/simmin-a/Desktop/project/newj/src\n"
     ]
    }
   ],
   "source": [
    "cd src"
   ]
  },
  {
   "cell_type": "markdown",
   "id": "ea6ec9fd",
   "metadata": {},
   "source": [
    "2. src 폴더 안에 git clone 하여 소스코드 다운 받기"
   ]
  },
  {
   "cell_type": "code",
   "execution_count": 3,
   "id": "3ebf4998",
   "metadata": {},
   "outputs": [
    {
     "name": "stdout",
     "output_type": "stream",
     "text": [
      "'KoBART-summarization'에 복제합니다...\n",
      "remote: Enumerating objects: 155, done.\u001b[K\n",
      "remote: Counting objects: 100% (72/72), done.\u001b[K\n",
      "remote: Compressing objects: 100% (32/32), done.\u001b[K\n",
      "remote: Total 155 (delta 49), reused 44 (delta 40), pack-reused 83 (from 1)\u001b[K\n",
      "오브젝트를 받는 중: 100% (155/155), 37.24 MiB | 5.20 MiB/s, 완료.\n",
      "델타를 알아내는 중: 100% (79/79), 완료.\n"
     ]
    }
   ],
   "source": [
    "!git clone https://github.com/seujung/KoBART-summarization.git"
   ]
  },
  {
   "cell_type": "code",
   "execution_count": 4,
   "id": "d0739962",
   "metadata": {},
   "outputs": [
    {
     "name": "stdout",
     "output_type": "stream",
     "text": [
      "\u001b[1m\u001b[36mKoBART-summarization\u001b[m\u001b[m/\n"
     ]
    }
   ],
   "source": [
    "ls"
   ]
  },
  {
   "cell_type": "markdown",
   "id": "8125d820",
   "metadata": {},
   "source": [
    "3. 해당 폴더 명을 **\"KoBART\"**로 바꾸기"
   ]
  },
  {
   "cell_type": "code",
   "execution_count": 5,
   "id": "90610811",
   "metadata": {},
   "outputs": [],
   "source": [
    "mv KoBART-summarization KoBART"
   ]
  },
  {
   "cell_type": "code",
   "execution_count": 6,
   "id": "9e953dc6",
   "metadata": {},
   "outputs": [
    {
     "name": "stdout",
     "output_type": "stream",
     "text": [
      "\u001b[1m\u001b[36mKoBART\u001b[m\u001b[m/\n"
     ]
    }
   ],
   "source": [
    "ls"
   ]
  },
  {
   "cell_type": "code",
   "execution_count": 5,
   "id": "e66df655",
   "metadata": {},
   "outputs": [
    {
     "name": "stdout",
     "output_type": "stream",
     "text": [
      "/Users/simmin-a/Desktop/project/newj/src/KoBART\n"
     ]
    }
   ],
   "source": [
    "cd KoBART"
   ]
  },
  {
   "cell_type": "code",
   "execution_count": 2,
   "id": "0dc78419",
   "metadata": {},
   "outputs": [
    {
     "name": "stdout",
     "output_type": "stream",
     "text": [
      "0_about_folder.ipynb        \u001b[1m\u001b[36mcheckpoint\u001b[m\u001b[m/\n",
      "1_install_package.ipynb     preprocess.py\n",
      "2_preprocessing_data.ipynb  \u001b[1m\u001b[36mrsc\u001b[m\u001b[m/\n",
      "3_train_and_test.ipynb      \u001b[1m\u001b[36msrc\u001b[m\u001b[m/\n",
      "4_make_binary_model.ipynb   \u001b[1m\u001b[36mwandb\u001b[m\u001b[m/\n"
     ]
    }
   ],
   "source": [
    "ls"
   ]
  },
  {
   "cell_type": "markdown",
   "id": "c7525b27",
   "metadata": {},
   "source": [
    "## 2. kobart 패키지 설치"
   ]
  },
  {
   "cell_type": "code",
   "execution_count": 1,
   "id": "db564d5f",
   "metadata": {
    "scrolled": true,
    "slideshow": {
     "slide_type": "-"
    }
   },
   "outputs": [
    {
     "name": "stdout",
     "output_type": "stream",
     "text": [
      "Collecting mxnet\n",
      "  Using cached mxnet-1.6.0-py2.py3-none-any.whl.metadata (3.4 kB)\n",
      "Collecting numpy<2.0.0,>1.16.0 (from mxnet)\n",
      "  Using cached numpy-1.26.4-cp39-cp39-macosx_11_0_arm64.whl.metadata (61 kB)\n",
      "Collecting requests<3,>=2.20.0 (from mxnet)\n",
      "  Using cached requests-2.32.3-py3-none-any.whl.metadata (4.6 kB)\n",
      "Collecting graphviz<0.9.0,>=0.8.1 (from mxnet)\n",
      "  Using cached graphviz-0.8.4-py2.py3-none-any.whl.metadata (6.4 kB)\n",
      "Collecting charset-normalizer<4,>=2 (from requests<3,>=2.20.0->mxnet)\n",
      "  Using cached charset_normalizer-3.3.2-cp39-cp39-macosx_11_0_arm64.whl.metadata (33 kB)\n",
      "Collecting idna<4,>=2.5 (from requests<3,>=2.20.0->mxnet)\n",
      "  Using cached idna-3.7-py3-none-any.whl.metadata (9.9 kB)\n",
      "Collecting urllib3<3,>=1.21.1 (from requests<3,>=2.20.0->mxnet)\n",
      "  Using cached urllib3-2.2.2-py3-none-any.whl.metadata (6.4 kB)\n",
      "Collecting certifi>=2017.4.17 (from requests<3,>=2.20.0->mxnet)\n",
      "  Using cached certifi-2024.7.4-py3-none-any.whl.metadata (2.2 kB)\n",
      "Using cached mxnet-1.6.0-py2.py3-none-any.whl (68.7 MB)\n",
      "Using cached graphviz-0.8.4-py2.py3-none-any.whl (16 kB)\n",
      "Using cached numpy-1.26.4-cp39-cp39-macosx_11_0_arm64.whl (14.0 MB)\n",
      "Using cached requests-2.32.3-py3-none-any.whl (64 kB)\n",
      "Using cached certifi-2024.7.4-py3-none-any.whl (162 kB)\n",
      "Using cached charset_normalizer-3.3.2-cp39-cp39-macosx_11_0_arm64.whl (120 kB)\n",
      "Using cached idna-3.7-py3-none-any.whl (66 kB)\n",
      "Using cached urllib3-2.2.2-py3-none-any.whl (121 kB)\n",
      "Installing collected packages: urllib3, numpy, idna, graphviz, charset-normalizer, certifi, requests, mxnet\n",
      "Successfully installed certifi-2024.7.4 charset-normalizer-3.3.2 graphviz-0.8.4 idna-3.7 mxnet-1.6.0 numpy-1.26.4 requests-2.32.3 urllib3-2.2.2\n",
      "Collecting gluonnlp==0.8.0\n",
      "  Using cached gluonnlp-0.8.0-py3-none-any.whl\n",
      "Requirement already satisfied: numpy in ./.venv/lib/python3.9/site-packages (from gluonnlp==0.8.0) (1.26.4)\n",
      "Installing collected packages: gluonnlp\n",
      "Successfully installed gluonnlp-0.8.0\n",
      "Collecting tqdm\n",
      "  Using cached tqdm-4.66.5-py3-none-any.whl.metadata (57 kB)\n",
      "Collecting pandas\n",
      "  Using cached pandas-2.2.2-cp39-cp39-macosx_11_0_arm64.whl.metadata (19 kB)\n",
      "Requirement already satisfied: numpy>=1.22.4 in ./.venv/lib/python3.9/site-packages (from pandas) (1.26.4)\n",
      "Requirement already satisfied: python-dateutil>=2.8.2 in ./.venv/lib/python3.9/site-packages (from pandas) (2.9.0.post0)\n",
      "Collecting pytz>=2020.1 (from pandas)\n",
      "  Using cached pytz-2024.1-py2.py3-none-any.whl.metadata (22 kB)\n",
      "Collecting tzdata>=2022.7 (from pandas)\n",
      "  Using cached tzdata-2024.1-py2.py3-none-any.whl.metadata (1.4 kB)\n",
      "Requirement already satisfied: six>=1.5 in ./.venv/lib/python3.9/site-packages (from python-dateutil>=2.8.2->pandas) (1.16.0)\n",
      "Using cached tqdm-4.66.5-py3-none-any.whl (78 kB)\n",
      "Using cached pandas-2.2.2-cp39-cp39-macosx_11_0_arm64.whl (11.3 MB)\n",
      "Using cached pytz-2024.1-py2.py3-none-any.whl (505 kB)\n",
      "Using cached tzdata-2024.1-py2.py3-none-any.whl (345 kB)\n",
      "Installing collected packages: pytz, tzdata, tqdm, pandas\n",
      "Successfully installed pandas-2.2.2 pytz-2024.1 tqdm-4.66.5 tzdata-2024.1\n",
      "Collecting sentencepiece\n",
      "  Using cached sentencepiece-0.2.0-cp39-cp39-macosx_11_0_arm64.whl.metadata (7.7 kB)\n",
      "Using cached sentencepiece-0.2.0-cp39-cp39-macosx_11_0_arm64.whl (1.2 MB)\n",
      "Installing collected packages: sentencepiece\n",
      "Successfully installed sentencepiece-0.2.0\n",
      "Collecting transformers\n",
      "  Using cached transformers-4.44.0-py3-none-any.whl.metadata (43 kB)\n",
      "Collecting filelock (from transformers)\n",
      "  Using cached filelock-3.15.4-py3-none-any.whl.metadata (2.9 kB)\n",
      "Collecting huggingface-hub<1.0,>=0.23.2 (from transformers)\n",
      "  Using cached huggingface_hub-0.24.5-py3-none-any.whl.metadata (13 kB)\n",
      "Requirement already satisfied: numpy>=1.17 in ./.venv/lib/python3.9/site-packages (from transformers) (1.26.4)\n",
      "Requirement already satisfied: packaging>=20.0 in ./.venv/lib/python3.9/site-packages (from transformers) (24.1)\n",
      "Collecting pyyaml>=5.1 (from transformers)\n",
      "  Using cached PyYAML-6.0.2-cp39-cp39-macosx_11_0_arm64.whl.metadata (2.1 kB)\n",
      "Collecting regex!=2019.12.17 (from transformers)\n",
      "  Using cached regex-2024.7.24-cp39-cp39-macosx_11_0_arm64.whl.metadata (40 kB)\n",
      "Requirement already satisfied: requests in ./.venv/lib/python3.9/site-packages (from transformers) (2.32.3)\n",
      "Collecting safetensors>=0.4.1 (from transformers)\n",
      "  Using cached safetensors-0.4.4-cp39-cp39-macosx_11_0_arm64.whl.metadata (3.8 kB)\n",
      "Collecting tokenizers<0.20,>=0.19 (from transformers)\n",
      "  Using cached tokenizers-0.19.1-cp39-cp39-macosx_11_0_arm64.whl.metadata (6.7 kB)\n",
      "Requirement already satisfied: tqdm>=4.27 in ./.venv/lib/python3.9/site-packages (from transformers) (4.66.5)\n",
      "Collecting fsspec>=2023.5.0 (from huggingface-hub<1.0,>=0.23.2->transformers)\n",
      "  Using cached fsspec-2024.6.1-py3-none-any.whl.metadata (11 kB)\n",
      "Requirement already satisfied: typing-extensions>=3.7.4.3 in ./.venv/lib/python3.9/site-packages (from huggingface-hub<1.0,>=0.23.2->transformers) (4.12.2)\n",
      "Requirement already satisfied: charset-normalizer<4,>=2 in ./.venv/lib/python3.9/site-packages (from requests->transformers) (3.3.2)\n",
      "Requirement already satisfied: idna<4,>=2.5 in ./.venv/lib/python3.9/site-packages (from requests->transformers) (3.7)\n",
      "Requirement already satisfied: urllib3<3,>=1.21.1 in ./.venv/lib/python3.9/site-packages (from requests->transformers) (2.2.2)\n",
      "Requirement already satisfied: certifi>=2017.4.17 in ./.venv/lib/python3.9/site-packages (from requests->transformers) (2024.7.4)\n",
      "Using cached transformers-4.44.0-py3-none-any.whl (9.5 MB)\n",
      "Using cached huggingface_hub-0.24.5-py3-none-any.whl (417 kB)\n",
      "Using cached PyYAML-6.0.2-cp39-cp39-macosx_11_0_arm64.whl (172 kB)\n",
      "Using cached regex-2024.7.24-cp39-cp39-macosx_11_0_arm64.whl (278 kB)\n",
      "Using cached safetensors-0.4.4-cp39-cp39-macosx_11_0_arm64.whl (383 kB)\n",
      "Using cached tokenizers-0.19.1-cp39-cp39-macosx_11_0_arm64.whl (2.4 MB)\n",
      "Using cached filelock-3.15.4-py3-none-any.whl (16 kB)\n",
      "Using cached fsspec-2024.6.1-py3-none-any.whl (177 kB)\n",
      "Installing collected packages: safetensors, regex, pyyaml, fsspec, filelock, huggingface-hub, tokenizers, transformers\n",
      "Successfully installed filelock-3.15.4 fsspec-2024.6.1 huggingface-hub-0.24.5 pyyaml-6.0.2 regex-2024.7.24 safetensors-0.4.4 tokenizers-0.19.1 transformers-4.44.0\n",
      "Collecting torch\n",
      "  Using cached torch-2.4.0-cp39-none-macosx_11_0_arm64.whl.metadata (26 kB)\n",
      "Requirement already satisfied: filelock in ./.venv/lib/python3.9/site-packages (from torch) (3.15.4)\n",
      "Requirement already satisfied: typing-extensions>=4.8.0 in ./.venv/lib/python3.9/site-packages (from torch) (4.12.2)\n",
      "Collecting sympy (from torch)\n",
      "  Using cached sympy-1.13.2-py3-none-any.whl.metadata (12 kB)\n",
      "Collecting networkx (from torch)\n",
      "  Using cached networkx-3.2.1-py3-none-any.whl.metadata (5.2 kB)\n",
      "Collecting jinja2 (from torch)\n",
      "  Using cached jinja2-3.1.4-py3-none-any.whl.metadata (2.6 kB)\n",
      "Requirement already satisfied: fsspec in ./.venv/lib/python3.9/site-packages (from torch) (2024.6.1)\n",
      "Collecting MarkupSafe>=2.0 (from jinja2->torch)\n",
      "  Using cached MarkupSafe-2.1.5-cp39-cp39-macosx_10_9_universal2.whl.metadata (3.0 kB)\n",
      "Collecting mpmath<1.4,>=1.1.0 (from sympy->torch)\n",
      "  Using cached mpmath-1.3.0-py3-none-any.whl.metadata (8.6 kB)\n",
      "Using cached torch-2.4.0-cp39-none-macosx_11_0_arm64.whl (62.1 MB)\n",
      "Using cached jinja2-3.1.4-py3-none-any.whl (133 kB)\n",
      "Using cached networkx-3.2.1-py3-none-any.whl (1.6 MB)\n",
      "Using cached sympy-1.13.2-py3-none-any.whl (6.2 MB)\n",
      "Using cached MarkupSafe-2.1.5-cp39-cp39-macosx_10_9_universal2.whl (18 kB)\n",
      "Using cached mpmath-1.3.0-py3-none-any.whl (536 kB)\n",
      "Installing collected packages: mpmath, sympy, networkx, MarkupSafe, jinja2, torch\n",
      "Successfully installed MarkupSafe-2.1.5 jinja2-3.1.4 mpmath-1.3.0 networkx-3.2.1 sympy-1.13.2 torch-2.4.0\n",
      "Collecting kobert_tokenizer\n",
      "  Cloning https://github.com/SKTBrain/KoBERT.git to /private/var/folders/ts/38tmrr9j1t322n5836spwpfh0000gn/T/pip-install-tjcu4_ia/kobert-tokenizer_69de871cf02547b08f29f486cb28db92\n",
      "  Running command git clone --filter=blob:none --quiet https://github.com/SKTBrain/KoBERT.git /private/var/folders/ts/38tmrr9j1t322n5836spwpfh0000gn/T/pip-install-tjcu4_ia/kobert-tokenizer_69de871cf02547b08f29f486cb28db92\n",
      "  Resolved https://github.com/SKTBrain/KoBERT.git to commit 47a69af87928fc24e20f571fe10c3cc9dd9af9a3\n",
      "  Installing build dependencies ... \u001b[?25ldone\n",
      "\u001b[?25h  Getting requirements to build wheel ... \u001b[?25ldone\n",
      "\u001b[?25h  Preparing metadata (pyproject.toml) ... \u001b[?25ldone\n",
      "\u001b[?25hBuilding wheels for collected packages: kobert_tokenizer\n",
      "  Building wheel for kobert_tokenizer (pyproject.toml) ... \u001b[?25ldone\n",
      "\u001b[?25h  Created wheel for kobert_tokenizer: filename=kobert_tokenizer-0.1-py3-none-any.whl size=4633 sha256=8340468d6a699cd2592060285b3c6d1eae5faa214c6efdd960ed0a36b7babc10\n",
      "  Stored in directory: /private/var/folders/ts/38tmrr9j1t322n5836spwpfh0000gn/T/pip-ephem-wheel-cache-tb30dliy/wheels/64/c4/82/d70d864682468fad0bf8269b0dfd88daf48f209be4c8ade164\n",
      "Successfully built kobert_tokenizer\n",
      "Installing collected packages: kobert_tokenizer\n",
      "Successfully installed kobert_tokenizer-0.1\n"
     ]
    }
   ],
   "source": [
    "!pip install mxnet\n",
    "!pip install gluonnlp==0.8.0\n",
    "!pip install tqdm pandas\n",
    "!pip install sentencepiece==0.1.91\n",
    "!pip install transformers==4.8.2\n",
    "!pip install torch\n",
    "!pip install 'git+https://github.com/SKTBrain/KoBERT.git#egg=kobert_tokenizer&subdirectory=kobert_hf'"
   ]
  },
  {
   "cell_type": "markdown",
   "id": "38e310c2",
   "metadata": {},
   "source": [
    "## 3. requirement 패키지 설치"
   ]
  },
  {
   "cell_type": "code",
   "execution_count": 11,
   "id": "68114937",
   "metadata": {},
   "outputs": [
    {
     "name": "stdout",
     "output_type": "stream",
     "text": [
      "Requirement already satisfied: pandas in /Users/simmin-a/Desktop/project/newj/.venv/lib/python3.7/site-packages (from -r requirements.txt (line 1)) (1.3.5)\n",
      "\u001b[31mERROR: Could not find a version that satisfies the requirement torch==2.0.1 (from versions: 1.0.0, 1.0.1, 1.1.0, 1.2.0, 1.3.0, 1.3.1, 1.4.0, 1.5.0, 1.5.1, 1.6.0, 1.7.0, 1.7.1, 1.8.0, 1.8.1, 1.9.0, 1.9.1, 1.10.0, 1.10.1, 1.10.2, 1.11.0, 1.12.0, 1.12.1, 1.13.0, 1.13.1)\u001b[0m\u001b[31m\n",
      "\u001b[0m\u001b[31mERROR: No matching distribution found for torch==2.0.1\u001b[0m\u001b[31m\n",
      "\u001b[0m\n",
      "\u001b[1m[\u001b[0m\u001b[34;49mnotice\u001b[0m\u001b[1;39;49m]\u001b[0m\u001b[39;49m A new release of pip is available: \u001b[0m\u001b[31;49m24.0\u001b[0m\u001b[39;49m -> \u001b[0m\u001b[32;49m24.2\u001b[0m\n",
      "\u001b[1m[\u001b[0m\u001b[34;49mnotice\u001b[0m\u001b[1;39;49m]\u001b[0m\u001b[39;49m To update, run: \u001b[0m\u001b[32;49mpip install --upgrade pip\u001b[0m\n"
     ]
    }
   ],
   "source": [
    "!pip install -r requirements.txt"
   ]
  },
  {
   "cell_type": "markdown",
   "id": "9f48b2ce",
   "metadata": {},
   "source": [
    "## 4. download binary"
   ]
  },
  {
   "cell_type": "code",
   "execution_count": 13,
   "id": "0d2d9127",
   "metadata": {},
   "outputs": [
    {
     "name": "stdout",
     "output_type": "stream",
     "text": [
      "Requirement already satisfied: gdown in /Users/simmin-a/Desktop/project/newj/.venv/lib/python3.7/site-packages (4.7.3)\n",
      "Requirement already satisfied: filelock in /Users/simmin-a/Desktop/project/newj/.venv/lib/python3.7/site-packages (from gdown) (3.12.2)\n",
      "Requirement already satisfied: requests[socks] in /Users/simmin-a/Desktop/project/newj/.venv/lib/python3.7/site-packages (from gdown) (2.31.0)\n",
      "Requirement already satisfied: six in /Users/simmin-a/Desktop/project/newj/.venv/lib/python3.7/site-packages (from gdown) (1.16.0)\n",
      "Requirement already satisfied: tqdm in /Users/simmin-a/Desktop/project/newj/.venv/lib/python3.7/site-packages (from gdown) (4.66.5)\n",
      "Requirement already satisfied: beautifulsoup4 in /Users/simmin-a/Desktop/project/newj/.venv/lib/python3.7/site-packages (from gdown) (4.12.3)\n",
      "Requirement already satisfied: soupsieve>1.2 in /Users/simmin-a/Desktop/project/newj/.venv/lib/python3.7/site-packages (from beautifulsoup4->gdown) (2.4.1)\n",
      "Requirement already satisfied: charset-normalizer<4,>=2 in /Users/simmin-a/Desktop/project/newj/.venv/lib/python3.7/site-packages (from requests[socks]->gdown) (3.3.2)\n",
      "Requirement already satisfied: idna<4,>=2.5 in /Users/simmin-a/Desktop/project/newj/.venv/lib/python3.7/site-packages (from requests[socks]->gdown) (3.7)\n",
      "Requirement already satisfied: urllib3<3,>=1.21.1 in /Users/simmin-a/Desktop/project/newj/.venv/lib/python3.7/site-packages (from requests[socks]->gdown) (2.0.7)\n",
      "Requirement already satisfied: certifi>=2017.4.17 in /Users/simmin-a/Desktop/project/newj/.venv/lib/python3.7/site-packages (from requests[socks]->gdown) (2024.7.4)\n",
      "Requirement already satisfied: PySocks!=1.5.7,>=1.5.6 in /Users/simmin-a/Desktop/project/newj/.venv/lib/python3.7/site-packages (from requests[socks]->gdown) (1.7.1)\n",
      "\n",
      "\u001b[1m[\u001b[0m\u001b[34;49mnotice\u001b[0m\u001b[1;39;49m]\u001b[0m\u001b[39;49m A new release of pip is available: \u001b[0m\u001b[31;49m24.0\u001b[0m\u001b[39;49m -> \u001b[0m\u001b[32;49m24.2\u001b[0m\n",
      "\u001b[1m[\u001b[0m\u001b[34;49mnotice\u001b[0m\u001b[1;39;49m]\u001b[0m\u001b[39;49m To update, run: \u001b[0m\u001b[32;49mpip install --upgrade pip\u001b[0m\n",
      "mkdir: kobart_summary: File exists\n",
      "Download config.json\n",
      "Traceback (most recent call last):\n",
      "  File \"/Users/simmin-a/Desktop/project/newj/.venv/lib/python3.7/site-packages/gdown/download.py\", line 232, in download\n",
      "    url = get_url_from_gdrive_confirmation(res.text)\n",
      "  File \"/Users/simmin-a/Desktop/project/newj/.venv/lib/python3.7/site-packages/gdown/download.py\", line 50, in get_url_from_gdrive_confirmation\n",
      "    \"Cannot retrieve the public link of the file. \"\n",
      "gdown.exceptions.FileURLRetrievalError: Cannot retrieve the public link of the file. You may need to change the permission to 'Anyone with the link', or have had many accesses.\n",
      "\n",
      "During handling of the above exception, another exception occurred:\n",
      "\n",
      "Traceback (most recent call last):\n",
      "  File \"download_binary.py\", line 13, in <module>\n",
      "    gdown.download(url, output, quiet=False)\n",
      "  File \"/Users/simmin-a/Desktop/project/newj/.venv/lib/python3.7/site-packages/gdown/download.py\", line 243, in download\n",
      "    raise FileURLRetrievalError(message)\n",
      "gdown.exceptions.FileURLRetrievalError: Failed to retrieve file url:\n",
      "\n",
      "\tCannot retrieve the public link of the file. You may need to change\n",
      "\tthe permission to 'Anyone with the link', or have had many accesses.\n",
      "\n",
      "You may still be able to access the file from the browser:\n",
      "\n",
      "\thttps://drive.google.com/uc?id=1H13loH6dS_2c2Z21kaBtgz42QsjkdAwO\n",
      "\n",
      "but Gdown can't. Please check connections and permissions.\n"
     ]
    }
   ],
   "source": [
    "!pip install gdown\n",
    "!python download_binary.py"
   ]
  },
  {
   "cell_type": "markdown",
   "id": "53182a78",
   "metadata": {},
   "source": [
    "## 5. rouge 패키지 설치"
   ]
  },
  {
   "cell_type": "code",
   "execution_count": 12,
   "id": "d0d93372",
   "metadata": {},
   "outputs": [
    {
     "name": "stdout",
     "output_type": "stream",
     "text": [
      "Collecting rouge\n",
      "  Using cached rouge-1.0.1-py3-none-any.whl.metadata (4.1 kB)\n",
      "Requirement already satisfied: six in /Users/simmin-a/Desktop/project/newj/.venv/lib/python3.7/site-packages (from rouge) (1.16.0)\n",
      "Using cached rouge-1.0.1-py3-none-any.whl (13 kB)\n",
      "Installing collected packages: rouge\n",
      "Successfully installed rouge-1.0.1\n",
      "\n",
      "\u001b[1m[\u001b[0m\u001b[34;49mnotice\u001b[0m\u001b[1;39;49m]\u001b[0m\u001b[39;49m A new release of pip is available: \u001b[0m\u001b[31;49m24.0\u001b[0m\u001b[39;49m -> \u001b[0m\u001b[32;49m24.2\u001b[0m\n",
      "\u001b[1m[\u001b[0m\u001b[34;49mnotice\u001b[0m\u001b[1;39;49m]\u001b[0m\u001b[39;49m To update, run: \u001b[0m\u001b[32;49mpip install --upgrade pip\u001b[0m\n"
     ]
    }
   ],
   "source": [
    "!pip install rouge"
   ]
  },
  {
   "cell_type": "markdown",
   "id": "1a325bf1",
   "metadata": {},
   "source": [
    "## 6. 추가 설치"
   ]
  },
  {
   "cell_type": "markdown",
   "id": "dca36125",
   "metadata": {},
   "source": [
    "- 아래 링크로 들어가서 알맞은 pytorch 버전 설치\n",
    "\n",
    "https://pytorch.org/get-started/previous-versions/\n",
    "\n",
    "ex) 저희는 pytorch 1.7.1 버전 사용했었는데, 현재 깃헙 업데이트 되면서 pytorch 1.9.1을 필요로 하는 것 같아요!  \n",
    "<br>\n",
    "      저희가 사용했던 코드는 `!pip install torch==1.7.1+cu110 torchvision==0.8.2+cu110 torchaudio==0.7.2 -f https://download.pytorch.org/whl/torch_stable.html` 입니다"
   ]
  }
 ],
 "metadata": {
  "kernelspec": {
   "display_name": "Python 3",
   "language": "python",
   "name": "python3"
  },
  "language_info": {
   "codemirror_mode": {
    "name": "ipython",
    "version": 3
   },
   "file_extension": ".py",
   "mimetype": "text/x-python",
   "name": "python",
   "nbconvert_exporter": "python",
   "pygments_lexer": "ipython3",
   "version": "3.9.13"
  }
 },
 "nbformat": 4,
 "nbformat_minor": 5
}
